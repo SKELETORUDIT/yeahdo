{
 "cells": [
  {
   "cell_type": "code",
   "execution_count": 6,
   "id": "f7d950de-61b1-4f43-b169-f6d5e46a0536",
   "metadata": {},
   "outputs": [
    {
     "ename": "SyntaxError",
     "evalue": "unterminated string literal (detected at line 5) (2622293151.py, line 5)",
     "output_type": "error",
     "traceback": [
      "\u001b[1;36m  Cell \u001b[1;32mIn[6], line 5\u001b[1;36m\u001b[0m\n\u001b[1;33m    json_str  ='[\u001b[0m\n\u001b[1;37m               ^\u001b[0m\n\u001b[1;31mSyntaxError\u001b[0m\u001b[1;31m:\u001b[0m unterminated string literal (detected at line 5)\n"
     ]
    }
   ],
   "source": [
    "import pandas as pd\n",
    "from pandas.io.json import json_normalize\n",
    "import json\n",
    "# Provided data\n",
    "json_str  ='[\n",
    "    {\"phonepe_profile\":false,\"success\":true,\"userProfile\":{\"basicInfo\":{\"userImage\":null,\"userName\":\"abijitdas \",\"email\":\"dasabijit74@gmail.com\",\"verifiedMobileNumber\":\"9101208984\",\"unverifiedMobileMumber\":\"9101208984\",\"gender\":null,\"mobileNumberVerfied\":true},\"userCityPreferences\":[],\"languagePreferences\":{\"language\":\"en\"},\"addressDetails\":{\"id\":1399695,\"address1\":null,\"address2\":null,\"landMark\":null,\"cityId\":0,\"cityName\":null,\"pinCode\":null,\"stateId\":0,\"stateName\":null},\"other_detail\":{}},\"time_taken\":14.553336}\n",
    "{\"phonepe_profile\":false,\"success\":true,\"userProfile\":{\"basicInfo\":{\"userImage\":null,\"userName\":null,\"email\":\"mdtaimur815@gmail.com\",\"verifiedMobileNumber\":null,\"unverifiedMobileMumber\":null,\"gender\":null,\"MobileNumberVerfied\":false},\"userCityPreferences\":[{\"cityId\":2148,\"cityName\":\"Mumbai\",\"stateId\":15}],\"languagePreferences\":{\"language\":\"en\"},\"addressDetails\":{},\"other_detail\":{}},\"time_taken\":26.009766}\n",
    "{\"phonepe_profile\":false,\"success\":true,\"userProfile\":{\"basicInfo\":{\"userImage\":null,\"userName\":null,\"email\":\"baniksourabh7@gmail.com\",\"verifiedMobileNumber\":null,\"unverifiedMobileMumber\":null,\"gender\":null,\"MobileNumberVerfied\":false},\"userCityPreferences\":[],\"languagePreferences\":{\"language\":\"en\"},\"addressDetails\":{},\"other_detail\":{}},\"time_taken\":24.337899999999998}\n",
    "{\"phonepe_profile\":false,\"success\":true,\"userProfile\":{\"basicInfo\":{\"userImage\":null,\"userName\":null,\"email\":\"null\",\"verifiedMobileNumber\":null,\"unverifiedMobileMumber\":null,\"gender\":null,\"MobileNumberVerfied\":false},\"userCityPreferences\":[],\"languagePreferences\":{\"language\":\"en\"},\"addressDetails\":{},\"other_detail\":{}},\"time_taken\":22.705247}\n",
    "{\"phonepe_profile\":false,\"success\":true,\"userProfile\":{\"basicInfo\":{\"userImage\":null,\"userName\":null,\"email\":\"bhimsenyadav724@gmail.com\",\"verifiedMobileNumber\":null,\"unverifiedMobileMumber\":null,\"gender\":null,\"MobileNumberVerfied\":false},\"userCityPreferences\":[{\"cityId\":3456,\"cityName\":\"Durg\",\"stateId\":5},{\"cityId\":3963,\"cityName\":\"Gorakhpur\",\"stateId\":27},{\"cityId\":7786,\"cityName\":\"New Delhi\",\"stateId\":35},{\"cityId\":3545,\"cityName\":\"Faridabad\",\"stateId\":8}],\"languagePreferences\":{\"language\":\"en\"},\"addressDetails\":{},\"other_detail\":{}},\"time_taken\":20.279374999999998}\n",
    "{\"phonepe_profile\":false,\"success\":true,\"userProfile\":{\"basicInfo\":{\"userImage\":null,\"userName\":null,\"email\":\"ujjwalpandey888@gmail.com\",\"verifiedMobileNumber\":null,\"unverifiedMobileMumber\":null,\"gender\":null,\"MobileNumberVerfied\":false},\"userCityPreferences\":[],\"languagePreferences\":{\"language\":\"en\"},\"addressDetails\":{},\"other_detail\":{}},\"time_taken\":13.348458}\n",
    "{\"phonepe_profile\":false,\"success\":true,\"userProfile\":{\"basicInfo\":{\"userImage\":null,\"userName\":null,\"email\":\"revathib17@gmail.com\",\"verifiedMobileNumber\":null,\"unverifiedMobileMumber\":null,\"gender\":null,\"MobileNumberVerfied\":false},\"userCityPreferences\":[{\"cityId\":7056,\"cityName\":\"Madurai\",\"stateId\":24}],\"languagePreferences\":{\"language\":\"en\"},\"addressDetails\":{},\"other_detail\":{}},\"time_taken\":16.783858}\n",
    "{\"phonepe_profile\":false,\"success\":true,\"userProfile\":{\"basicInfo\":{\"userImage\":null,\"userName\":null,\"email\":\"null\",\"verifiedMobileNumber\":null,\"unverifiedMobileMumber\":null,\"gender\":null,\"MobileNumberVerfied\":false},\"userCityPreferences\":[],\"languagePreferences\":{\"language\":\"en\"},\"addressDetails\":{},\"other_detail\":{}},\"time_taken\":20.694811}\n",
    "{\"phonepe_profile\":false,\"success\":true,\"userProfile\":{\"basicInfo\":{\"userImage\":null,\"userName\":null,\"email\":\"null\",\"verifiedMobileNumber\":null,\"unverifiedMobileMumber\":null,\"gender\":null,\"MobileNumberVerfied\":false},\"userCityPreferences\":[],\"languagePreferences\":{\"language\":\"en\"},\"addressDetails\":{},\"other_detail\":{}},\"time_taken\":13.52388}\n",
    "{\"phonepe_profile\":false,\"success\":true,\"userProfile\":{\"basicInfo\":{\"userImage\":null,\"userName\":null,\"email\":\"0100c4e30200e3e103006792040028c505009d4c070054740800b54709006330ry@dummyemail.com\",\"verifiedMobileNumber\":\"9525001500\",\"unverifiedMobileMumber\":\" 919525001500\",\"gender\":null,\"mobileNumberVerfied\":true},\"userCityPreferences\":[],\"languagePreferences\":{\"language\":\"en\"},\"addressDetails\":{},\"other_detail\":{}},\"time_taken\":16.89386}\n",
    "{\"phonepe_profile\":false,\"success\":true,\"userProfile\":{\"basicInfo\":{\"userImage\":null,\"userName\":null,\"email\":\"null\",\"verifiedMobileNumber\":null,\"unverifiedMobileMumber\":null,\"gender\":null,\"MobileNumberVerfied\":false},\"userCityPreferences\":[],\"languagePreferences\":{\"language\":\"en\"},\"addressDetails\":{},\"other_detail\":{}},\"time_taken\":18.793364}\n",
    "{\"phonepe_profile\":false,\"success\":true,\"userProfile\":{\"basicInfo\":{\"userImage\":null,\"userName\":null,\"email\":\"sonapanwar78@gmail.com\",\"verifiedMobileNumber\":null,\"unverifiedMobileMumber\":null,\"gender\":null,\"MobileNumberVerfied\":false},\"userCityPreferences\":[],\"languagePreferences\":{\"language\":\"en\"},\"addressDetails\":{},\"other_detail\":{}},\"time_taken\":13.877984}\n",
    "{\"phonepe_profile\":false,\"success\":true,\"userProfile\":{\"basicInfo\":{\"userImage\":null,\"userName\":null,\"email\":\"rajivgarima0001@gmail.com\",\"verifiedMobileNumber\":null,\"unverifiedMobileMumber\":null,\"gender\":null,\"MobileNumberVerfied\":false},\"userCityPreferences\":[],\"languagePreferences\":{\"language\":\"en\"},\"addressDetails\":{},\"other_detail\":{\"base_city_id\":null,\"base_city_name\":null,\"is_whatsapp\":false,\"preferred_travel_mode\":null}},\"time_taken\":19.012577}]'\n",
    "data = json.loads(json_str)\n",
    "# Normalize the nested JSON data into a flat table\n",
    "df = pd.json_normalize(data, record_path=['userProfile', 'userCityPreferences'], \n",
    "                       meta=[\n",
    "                           ['userProfile', 'basicInfo', 'userName'],\n",
    "                           ['userProfile', 'basicInfo', 'email'],\n",
    "                           ['userProfile', 'basicInfo', 'verifiedMobileNumber'],\n",
    "                           ['userProfile', 'basicInfo', 'unverifiedMobileMumber'],\n",
    "                           ['userProfile', 'basicInfo', 'gender'],\n",
    "                           ['userProfile', 'basicInfo', 'mobileNumberVerfied'],\n",
    "                           ['userProfile', 'languagePreferences', 'language'],\n",
    "                           ['userProfile', 'addressDetails', 'id'],\n",
    "                           ['userProfile', 'addressDetails', 'cityName'],\n",
    "                           ['userProfile', 'addressDetails', 'pinCode'],\n",
    "                           ['userProfile', 'addressDetails', 'stateName']\n",
    "                       ], errors='ignore')\n",
    "\n",
    "# Rename columns for clarity\n",
    "df.columns = [\n",
    "    'City ID', 'City Name', 'State ID', 'User Name', 'Email', 'Verified Mobile Number', \n",
    "    'Unverified Mobile Number', 'Gender', 'Mobile Number Verified', 'Language', \n",
    "    'Address ID', 'Address City Name', 'Pin Code', 'State Name'\n",
    "]\n",
    "\n",
    "# Save to CSV\n",
    "csv_file_path = \"/mnt/data/phonepe_profiles_cleaned.csv\"\n",
    "df.to_csv(Sample_data, index=False)\n",
    "\n",
    "csv_file_path\n"
   ]
  },
  {
   "cell_type": "code",
   "execution_count": 7,
   "id": "d89a4fbc-cbc5-4045-ac42-e32a6e7f342d",
   "metadata": {},
   "outputs": [],
   "source": [
    "import pandas as pd\n",
    "import json"
   ]
  },
  {
   "cell_type": "code",
   "execution_count": 8,
   "id": "1a42ddaf-641f-4ad0-93fe-24881dfe7656",
   "metadata": {},
   "outputs": [],
   "source": [
    "json_str = '''\n",
    "[\n",
    "    {\"phonepe_profile\":false,\"success\":true,\"userProfile\":{\"basicInfo\":{\"userImage\":null,\"userName\":\"abijitdas \",\"email\":\"dasabijit74@gmail.com\",\"verifiedMobileNumber\":\"9101208984\",\"unverifiedMobileMumber\":\"9101208984\",\"gender\":null,\"mobileNumberVerfied\":true},\"userCityPreferences\":[],\"languagePreferences\":{\"language\":\"en\"},\"addressDetails\":{\"id\":1399695,\"address1\":null,\"address2\":null,\"landMark\":null,\"cityId\":0,\"cityName\":null,\"pinCode\":null,\"stateId\":0,\"stateName\":null},\"other_detail\":{}},\"time_taken\":14.553336}\n",
    "{\"phonepe_profile\":false,\"success\":true,\"userProfile\":{\"basicInfo\":{\"userImage\":null,\"userName\":null,\"email\":\"mdtaimur815@gmail.com\",\"verifiedMobileNumber\":null,\"unverifiedMobileMumber\":null,\"gender\":null,\"MobileNumberVerfied\":false},\"userCityPreferences\":[{\"cityId\":2148,\"cityName\":\"Mumbai\",\"stateId\":15}],\"languagePreferences\":{\"language\":\"en\"},\"addressDetails\":{},\"other_detail\":{}},\"time_taken\":26.009766}\n",
    "{\"phonepe_profile\":false,\"success\":true,\"userProfile\":{\"basicInfo\":{\"userImage\":null,\"userName\":null,\"email\":\"baniksourabh7@gmail.com\",\"verifiedMobileNumber\":null,\"unverifiedMobileMumber\":null,\"gender\":null,\"MobileNumberVerfied\":false},\"userCityPreferences\":[],\"languagePreferences\":{\"language\":\"en\"},\"addressDetails\":{},\"other_detail\":{}},\"time_taken\":24.337899999999998}\n",
    "{\"phonepe_profile\":false,\"success\":true,\"userProfile\":{\"basicInfo\":{\"userImage\":null,\"userName\":null,\"email\":\"null\",\"verifiedMobileNumber\":null,\"unverifiedMobileMumber\":null,\"gender\":null,\"MobileNumberVerfied\":false},\"userCityPreferences\":[],\"languagePreferences\":{\"language\":\"en\"},\"addressDetails\":{},\"other_detail\":{}},\"time_taken\":22.705247}\n",
    "{\"phonepe_profile\":false,\"success\":true,\"userProfile\":{\"basicInfo\":{\"userImage\":null,\"userName\":null,\"email\":\"bhimsenyadav724@gmail.com\",\"verifiedMobileNumber\":null,\"unverifiedMobileMumber\":null,\"gender\":null,\"MobileNumberVerfied\":false},\"userCityPreferences\":[{\"cityId\":3456,\"cityName\":\"Durg\",\"stateId\":5},{\"cityId\":3963,\"cityName\":\"Gorakhpur\",\"stateId\":27},{\"cityId\":7786,\"cityName\":\"New Delhi\",\"stateId\":35},{\"cityId\":3545,\"cityName\":\"Faridabad\",\"stateId\":8}],\"languagePreferences\":{\"language\":\"en\"},\"addressDetails\":{},\"other_detail\":{}},\"time_taken\":20.279374999999998}\n",
    "{\"phonepe_profile\":false,\"success\":true,\"userProfile\":{\"basicInfo\":{\"userImage\":null,\"userName\":null,\"email\":\"ujjwalpandey888@gmail.com\",\"verifiedMobileNumber\":null,\"unverifiedMobileMumber\":null,\"gender\":null,\"MobileNumberVerfied\":false},\"userCityPreferences\":[],\"languagePreferences\":{\"language\":\"en\"},\"addressDetails\":{},\"other_detail\":{}},\"time_taken\":13.348458}\n",
    "{\"phonepe_profile\":false,\"success\":true,\"userProfile\":{\"basicInfo\":{\"userImage\":null,\"userName\":null,\"email\":\"revathib17@gmail.com\",\"verifiedMobileNumber\":null,\"unverifiedMobileMumber\":null,\"gender\":null,\"MobileNumberVerfied\":false},\"userCityPreferences\":[{\"cityId\":7056,\"cityName\":\"Madurai\",\"stateId\":24}],\"languagePreferences\":{\"language\":\"en\"},\"addressDetails\":{},\"other_detail\":{}},\"time_taken\":16.783858}\n",
    "{\"phonepe_profile\":false,\"success\":true,\"userProfile\":{\"basicInfo\":{\"userImage\":null,\"userName\":null,\"email\":\"null\",\"verifiedMobileNumber\":null,\"unverifiedMobileMumber\":null,\"gender\":null,\"MobileNumberVerfied\":false},\"userCityPreferences\":[],\"languagePreferences\":{\"language\":\"en\"},\"addressDetails\":{},\"other_detail\":{}},\"time_taken\":20.694811}\n",
    "{\"phonepe_profile\":false,\"success\":true,\"userProfile\":{\"basicInfo\":{\"userImage\":null,\"userName\":null,\"email\":\"null\",\"verifiedMobileNumber\":null,\"unverifiedMobileMumber\":null,\"gender\":null,\"MobileNumberVerfied\":false},\"userCityPreferences\":[],\"languagePreferences\":{\"language\":\"en\"},\"addressDetails\":{},\"other_detail\":{}},\"time_taken\":13.52388}\n",
    "{\"phonepe_profile\":false,\"success\":true,\"userProfile\":{\"basicInfo\":{\"userImage\":null,\"userName\":null,\"email\":\"0100c4e30200e3e103006792040028c505009d4c070054740800b54709006330ry@dummyemail.com\",\"verifiedMobileNumber\":\"9525001500\",\"unverifiedMobileMumber\":\" 919525001500\",\"gender\":null,\"mobileNumberVerfied\":true},\"userCityPreferences\":[],\"languagePreferences\":{\"language\":\"en\"},\"addressDetails\":{},\"other_detail\":{}},\"time_taken\":16.89386}\n",
    "{\"phonepe_profile\":false,\"success\":true,\"userProfile\":{\"basicInfo\":{\"userImage\":null,\"userName\":null,\"email\":\"null\",\"verifiedMobileNumber\":null,\"unverifiedMobileMumber\":null,\"gender\":null,\"MobileNumberVerfied\":false},\"userCityPreferences\":[],\"languagePreferences\":{\"language\":\"en\"},\"addressDetails\":{},\"other_detail\":{}},\"time_taken\":18.793364}\n",
    "{\"phonepe_profile\":false,\"success\":true,\"userProfile\":{\"basicInfo\":{\"userImage\":null,\"userName\":null,\"email\":\"sonapanwar78@gmail.com\",\"verifiedMobileNumber\":null,\"unverifiedMobileMumber\":null,\"gender\":null,\"MobileNumberVerfied\":false},\"userCityPreferences\":[],\"languagePreferences\":{\"language\":\"en\"},\"addressDetails\":{},\"other_detail\":{}},\"time_taken\":13.877984}\n",
    "{\"phonepe_profile\":false,\"success\":true,\"userProfile\":{\"basicInfo\":{\"userImage\":null,\"userName\":null,\"email\":\"rajivgarima0001@gmail.com\",\"verifiedMobileNumber\":null,\"unverifiedMobileMumber\":null,\"gender\":null,\"MobileNumberVerfied\":false},\"userCityPreferences\":[],\"languagePreferences\":{\"language\":\"en\"},\"addressDetails\":{},\"other_detail\":{\"base_city_id\":null,\"base_city_name\":null,\"is_whatsapp\":false,\"preferred_travel_mode\":null}},\"time_taken\":19.012577}\n",
    "]\n",
    "'''"
   ]
  },
  {
   "cell_type": "code",
   "execution_count": 9,
   "id": "f702dfd7-bd45-48cd-b2b8-914a62f9a607",
   "metadata": {},
   "outputs": [
    {
     "ename": "JSONDecodeError",
     "evalue": "Expecting ',' delimiter: line 4 column 1 (char 523)",
     "output_type": "error",
     "traceback": [
      "\u001b[1;31m---------------------------------------------------------------------------\u001b[0m",
      "\u001b[1;31mJSONDecodeError\u001b[0m                           Traceback (most recent call last)",
      "Cell \u001b[1;32mIn[9], line 1\u001b[0m\n\u001b[1;32m----> 1\u001b[0m data \u001b[38;5;241m=\u001b[39m \u001b[43mjson\u001b[49m\u001b[38;5;241;43m.\u001b[39;49m\u001b[43mloads\u001b[49m\u001b[43m(\u001b[49m\u001b[43mjson_str\u001b[49m\u001b[43m)\u001b[49m\n",
      "File \u001b[1;32m~\\miniconda3\\Lib\\json\\__init__.py:346\u001b[0m, in \u001b[0;36mloads\u001b[1;34m(s, cls, object_hook, parse_float, parse_int, parse_constant, object_pairs_hook, **kw)\u001b[0m\n\u001b[0;32m    341\u001b[0m     s \u001b[38;5;241m=\u001b[39m s\u001b[38;5;241m.\u001b[39mdecode(detect_encoding(s), \u001b[38;5;124m'\u001b[39m\u001b[38;5;124msurrogatepass\u001b[39m\u001b[38;5;124m'\u001b[39m)\n\u001b[0;32m    343\u001b[0m \u001b[38;5;28;01mif\u001b[39;00m (\u001b[38;5;28mcls\u001b[39m \u001b[38;5;129;01mis\u001b[39;00m \u001b[38;5;28;01mNone\u001b[39;00m \u001b[38;5;129;01mand\u001b[39;00m object_hook \u001b[38;5;129;01mis\u001b[39;00m \u001b[38;5;28;01mNone\u001b[39;00m \u001b[38;5;129;01mand\u001b[39;00m\n\u001b[0;32m    344\u001b[0m         parse_int \u001b[38;5;129;01mis\u001b[39;00m \u001b[38;5;28;01mNone\u001b[39;00m \u001b[38;5;129;01mand\u001b[39;00m parse_float \u001b[38;5;129;01mis\u001b[39;00m \u001b[38;5;28;01mNone\u001b[39;00m \u001b[38;5;129;01mand\u001b[39;00m\n\u001b[0;32m    345\u001b[0m         parse_constant \u001b[38;5;129;01mis\u001b[39;00m \u001b[38;5;28;01mNone\u001b[39;00m \u001b[38;5;129;01mand\u001b[39;00m object_pairs_hook \u001b[38;5;129;01mis\u001b[39;00m \u001b[38;5;28;01mNone\u001b[39;00m \u001b[38;5;129;01mand\u001b[39;00m \u001b[38;5;129;01mnot\u001b[39;00m kw):\n\u001b[1;32m--> 346\u001b[0m     \u001b[38;5;28;01mreturn\u001b[39;00m \u001b[43m_default_decoder\u001b[49m\u001b[38;5;241;43m.\u001b[39;49m\u001b[43mdecode\u001b[49m\u001b[43m(\u001b[49m\u001b[43ms\u001b[49m\u001b[43m)\u001b[49m\n\u001b[0;32m    347\u001b[0m \u001b[38;5;28;01mif\u001b[39;00m \u001b[38;5;28mcls\u001b[39m \u001b[38;5;129;01mis\u001b[39;00m \u001b[38;5;28;01mNone\u001b[39;00m:\n\u001b[0;32m    348\u001b[0m     \u001b[38;5;28mcls\u001b[39m \u001b[38;5;241m=\u001b[39m JSONDecoder\n",
      "File \u001b[1;32m~\\miniconda3\\Lib\\json\\decoder.py:337\u001b[0m, in \u001b[0;36mJSONDecoder.decode\u001b[1;34m(self, s, _w)\u001b[0m\n\u001b[0;32m    332\u001b[0m \u001b[38;5;28;01mdef\u001b[39;00m \u001b[38;5;21mdecode\u001b[39m(\u001b[38;5;28mself\u001b[39m, s, _w\u001b[38;5;241m=\u001b[39mWHITESPACE\u001b[38;5;241m.\u001b[39mmatch):\n\u001b[0;32m    333\u001b[0m \u001b[38;5;250m    \u001b[39m\u001b[38;5;124;03m\"\"\"Return the Python representation of ``s`` (a ``str`` instance\u001b[39;00m\n\u001b[0;32m    334\u001b[0m \u001b[38;5;124;03m    containing a JSON document).\u001b[39;00m\n\u001b[0;32m    335\u001b[0m \n\u001b[0;32m    336\u001b[0m \u001b[38;5;124;03m    \"\"\"\u001b[39;00m\n\u001b[1;32m--> 337\u001b[0m     obj, end \u001b[38;5;241m=\u001b[39m \u001b[38;5;28;43mself\u001b[39;49m\u001b[38;5;241;43m.\u001b[39;49m\u001b[43mraw_decode\u001b[49m\u001b[43m(\u001b[49m\u001b[43ms\u001b[49m\u001b[43m,\u001b[49m\u001b[43m \u001b[49m\u001b[43midx\u001b[49m\u001b[38;5;241;43m=\u001b[39;49m\u001b[43m_w\u001b[49m\u001b[43m(\u001b[49m\u001b[43ms\u001b[49m\u001b[43m,\u001b[49m\u001b[43m \u001b[49m\u001b[38;5;241;43m0\u001b[39;49m\u001b[43m)\u001b[49m\u001b[38;5;241;43m.\u001b[39;49m\u001b[43mend\u001b[49m\u001b[43m(\u001b[49m\u001b[43m)\u001b[49m\u001b[43m)\u001b[49m\n\u001b[0;32m    338\u001b[0m     end \u001b[38;5;241m=\u001b[39m _w(s, end)\u001b[38;5;241m.\u001b[39mend()\n\u001b[0;32m    339\u001b[0m     \u001b[38;5;28;01mif\u001b[39;00m end \u001b[38;5;241m!=\u001b[39m \u001b[38;5;28mlen\u001b[39m(s):\n",
      "File \u001b[1;32m~\\miniconda3\\Lib\\json\\decoder.py:353\u001b[0m, in \u001b[0;36mJSONDecoder.raw_decode\u001b[1;34m(self, s, idx)\u001b[0m\n\u001b[0;32m    344\u001b[0m \u001b[38;5;250m\u001b[39m\u001b[38;5;124;03m\"\"\"Decode a JSON document from ``s`` (a ``str`` beginning with\u001b[39;00m\n\u001b[0;32m    345\u001b[0m \u001b[38;5;124;03ma JSON document) and return a 2-tuple of the Python\u001b[39;00m\n\u001b[0;32m    346\u001b[0m \u001b[38;5;124;03mrepresentation and the index in ``s`` where the document ended.\u001b[39;00m\n\u001b[1;32m   (...)\u001b[0m\n\u001b[0;32m    350\u001b[0m \n\u001b[0;32m    351\u001b[0m \u001b[38;5;124;03m\"\"\"\u001b[39;00m\n\u001b[0;32m    352\u001b[0m \u001b[38;5;28;01mtry\u001b[39;00m:\n\u001b[1;32m--> 353\u001b[0m     obj, end \u001b[38;5;241m=\u001b[39m \u001b[38;5;28;43mself\u001b[39;49m\u001b[38;5;241;43m.\u001b[39;49m\u001b[43mscan_once\u001b[49m\u001b[43m(\u001b[49m\u001b[43ms\u001b[49m\u001b[43m,\u001b[49m\u001b[43m \u001b[49m\u001b[43midx\u001b[49m\u001b[43m)\u001b[49m\n\u001b[0;32m    354\u001b[0m \u001b[38;5;28;01mexcept\u001b[39;00m \u001b[38;5;167;01mStopIteration\u001b[39;00m \u001b[38;5;28;01mas\u001b[39;00m err:\n\u001b[0;32m    355\u001b[0m     \u001b[38;5;28;01mraise\u001b[39;00m JSONDecodeError(\u001b[38;5;124m\"\u001b[39m\u001b[38;5;124mExpecting value\u001b[39m\u001b[38;5;124m\"\u001b[39m, s, err\u001b[38;5;241m.\u001b[39mvalue) \u001b[38;5;28;01mfrom\u001b[39;00m \u001b[38;5;28;01mNone\u001b[39;00m\n",
      "\u001b[1;31mJSONDecodeError\u001b[0m: Expecting ',' delimiter: line 4 column 1 (char 523)"
     ]
    }
   ],
   "source": [
    "data = json.loads(json_str)\n"
   ]
  },
  {
   "cell_type": "code",
   "execution_count": null,
   "id": "7884fdcf-850e-4157-9b4b-854b92299435",
   "metadata": {},
   "outputs": [],
   "source": []
  },
  {
   "cell_type": "code",
   "execution_count": null,
   "id": "e2dce3af-f9c6-4b20-a654-844227581ad2",
   "metadata": {},
   "outputs": [],
   "source": []
  },
  {
   "cell_type": "code",
   "execution_count": null,
   "id": "eddb104d-895b-4800-9de9-7434bde60889",
   "metadata": {},
   "outputs": [],
   "source": []
  },
  {
   "cell_type": "code",
   "execution_count": null,
   "id": "4271a07e-b637-4bfd-a936-0526d1f33e7d",
   "metadata": {},
   "outputs": [],
   "source": []
  },
  {
   "cell_type": "code",
   "execution_count": null,
   "id": "70cc53f1-1ce8-434e-8c43-dad33fecfa13",
   "metadata": {},
   "outputs": [],
   "source": []
  },
  {
   "cell_type": "code",
   "execution_count": null,
   "id": "1e959ad9-d1ec-460f-8965-472508467c61",
   "metadata": {},
   "outputs": [],
   "source": []
  },
  {
   "cell_type": "code",
   "execution_count": null,
   "id": "1ee544b9-50eb-4e8d-a7c3-c8b87b815d67",
   "metadata": {},
   "outputs": [],
   "source": []
  },
  {
   "cell_type": "code",
   "execution_count": null,
   "id": "557fe2f2-f54d-49c9-ae24-f4aab2a46991",
   "metadata": {},
   "outputs": [],
   "source": []
  },
  {
   "cell_type": "code",
   "execution_count": null,
   "id": "fdb574ae-9bc3-4a9c-9f18-a3a0cd7a023a",
   "metadata": {},
   "outputs": [],
   "source": []
  },
  {
   "cell_type": "code",
   "execution_count": null,
   "id": "f687217b-e8a6-4c2f-81a2-00f426621cd7",
   "metadata": {},
   "outputs": [],
   "source": []
  },
  {
   "cell_type": "code",
   "execution_count": null,
   "id": "f7c359a2-5fd4-49fe-958e-83d745d52d1b",
   "metadata": {},
   "outputs": [],
   "source": []
  },
  {
   "cell_type": "code",
   "execution_count": null,
   "id": "71cb6a4d-246c-4fdf-a172-a312efa504a8",
   "metadata": {},
   "outputs": [],
   "source": []
  },
  {
   "cell_type": "code",
   "execution_count": null,
   "id": "09944034-c994-4ec4-9d97-2e8ae542aba2",
   "metadata": {},
   "outputs": [],
   "source": []
  },
  {
   "cell_type": "code",
   "execution_count": null,
   "id": "24e4c6a4-5c52-4fae-a025-39bf9e4dfef7",
   "metadata": {},
   "outputs": [],
   "source": []
  }
 ],
 "metadata": {
  "kernelspec": {
   "display_name": "Python 3 (ipykernel)",
   "language": "python",
   "name": "python3"
  },
  "language_info": {
   "codemirror_mode": {
    "name": "ipython",
    "version": 3
   },
   "file_extension": ".py",
   "mimetype": "text/x-python",
   "name": "python",
   "nbconvert_exporter": "python",
   "pygments_lexer": "ipython3",
   "version": "3.11.5"
  }
 },
 "nbformat": 4,
 "nbformat_minor": 5
}
